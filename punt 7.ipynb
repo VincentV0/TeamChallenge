{
 "cells": [
  {
   "cell_type": "markdown",
   "id": "9e27845d",
   "metadata": {},
   "source": [
    "Voor het bepalen van punt 7 heb ik dl_image_3d van Nils gebruikt. Je hebt dus een binary image nodig waarbij de spine pixels met 1 zijn aangegeven"
   ]
  },
  {
   "cell_type": "code",
   "execution_count": null,
   "id": "3f6a944f",
   "metadata": {},
   "outputs": [],
   "source": [
    "import nibabel as nib\n",
    "import matplotlib.pyplot as plt\n",
    "import numpy as np"
   ]
  },
  {
   "cell_type": "code",
   "execution_count": 1,
   "id": "1f6d2b6c",
   "metadata": {},
   "outputs": [
    {
     "ename": "NameError",
     "evalue": "name 'nib' is not defined",
     "output_type": "error",
     "traceback": [
      "\u001b[1;31m---------------------------------------------------------------------------\u001b[0m",
      "\u001b[1;31mNameError\u001b[0m                                 Traceback (most recent call last)",
      "\u001b[1;32m~\\AppData\\Local\\Temp/ipykernel_16160/317252277.py\u001b[0m in \u001b[0;36m<module>\u001b[1;34m\u001b[0m\n\u001b[0;32m      2\u001b[0m \u001b[0mfile\u001b[0m \u001b[1;33m=\u001b[0m \u001b[1;34m'2preop.nii'\u001b[0m\u001b[1;33m\u001b[0m\u001b[1;33m\u001b[0m\u001b[0m\n\u001b[0;32m      3\u001b[0m \u001b[0mslice\u001b[0m\u001b[1;33m=\u001b[0m\u001b[1;36m100\u001b[0m\u001b[1;33m\u001b[0m\u001b[1;33m\u001b[0m\u001b[0m\n\u001b[1;32m----> 4\u001b[1;33m \u001b[0mimg\u001b[0m \u001b[1;33m=\u001b[0m \u001b[0mnib\u001b[0m\u001b[1;33m.\u001b[0m\u001b[0mload\u001b[0m\u001b[1;33m(\u001b[0m\u001b[0mpath\u001b[0m\u001b[1;33m+\u001b[0m\u001b[0mfile\u001b[0m\u001b[1;33m)\u001b[0m\u001b[1;33m\u001b[0m\u001b[1;33m\u001b[0m\u001b[0m\n\u001b[0m\u001b[0;32m      5\u001b[0m \u001b[0mimg_data\u001b[0m \u001b[1;33m=\u001b[0m \u001b[0mimg\u001b[0m\u001b[1;33m.\u001b[0m\u001b[0mget_fdata\u001b[0m\u001b[1;33m(\u001b[0m\u001b[1;33m)\u001b[0m\u001b[1;33m\u001b[0m\u001b[1;33m\u001b[0m\u001b[0m\n",
      "\u001b[1;31mNameError\u001b[0m: name 'nib' is not defined"
     ]
    }
   ],
   "source": [
    "path = \"D:\\\\Data teamchallenge\\\\TC_DATA\\Scoliose\\\\\" # PATH to nifti files\n",
    "file = '2preop.nii'\n",
    "slice=105\n",
    "img = nib.load(path+file)\n",
    "img_data = img.get_fdata()"
   ]
  },
  {
   "cell_type": "code",
   "execution_count": null,
   "id": "aaeea173",
   "metadata": {},
   "outputs": [],
   "source": [
    "\n",
    "plt.imshow(dl_image_3d[:,:,slice],cmap='gray') #show image of selected slice with spine segmentation\n",
    "\n",
    "spine=np.nonzero(dl_image_3d[:,:,slice]) #indicate nonzeros in binary image with spine as nonzeros\n",
    "\n",
    "spine_x=spine[1] #select x coordinates of spine\n",
    "spine_y=spine[0] #select y coordinates of spine\n",
    "#indices=[] #\n",
    "canal_x=[] #empty array to store x coordinates of spine\n",
    "canal_y=[] # empty array to store y coordinates of spine\n",
    "\n",
    "for i in range (len(spine_x)-1):\n",
    "    if spine_y[i]==spine_y[i+1]: # check if preceding y coordinates are the same\n",
    "        difference=spine_x[i+1]-spine_x[i] # calculate difference in preceding x coordinates\n",
    "        if abs(difference) >20: # If difference is larger than 20, coordinates are stored\n",
    "            canal_x.append(spine_x[i])\n",
    "            canal_y.append(spine_y[i])\n",
    "canal_x=np.array(canal_x)# make array of x coordinates\n",
    "canal_y=np.array(canal_y) # make array of y coordinates\n",
    "min_value_x=np.min(canal_x) # minimal vallue for x to select posterior point\n",
    "min_index=np.where(canal_x==min_value_x) #index of minimal value of x\n",
    "\n",
    "min_value_y=canal_y[min_index] # corresponding y coordinates of minimal value of x\n",
    "min_value_y=min(min_value_y) # minimal value of y is the desired point\n",
    " \n",
    "plt.plot(min_value_x, min_value_y, marker='o', markersize=3, color=\"blue\") # plot identified point 7"
   ]
  }
 ],
 "metadata": {
  "kernelspec": {
   "display_name": "Python 3 (ipykernel)",
   "language": "python",
   "name": "python3"
  },
  "language_info": {
   "codemirror_mode": {
    "name": "ipython",
    "version": 3
   },
   "file_extension": ".py",
   "mimetype": "text/x-python",
   "name": "python",
   "nbconvert_exporter": "python",
   "pygments_lexer": "ipython3",
   "version": "3.9.7"
  }
 },
 "nbformat": 4,
 "nbformat_minor": 5
}
