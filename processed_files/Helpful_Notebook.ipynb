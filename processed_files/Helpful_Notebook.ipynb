{
 "cells": [
  {
   "cell_type": "code",
   "execution_count": null,
   "id": "10098b02",
   "metadata": {},
   "outputs": [],
   "source": [
    "# Define custom colormap for visualization below.\n",
    "from matplotlib.colors import LinearSegmentedColormap, ListedColormap\n",
    "cm1 = ListedColormap([(0,0,0,0), (0,1,0,0.2)])\n",
    "cm2 = ListedColormap([(0,0,0,0), (0,0,1,0.2)])\n"
   ]
  },
  {
   "cell_type": "code",
   "execution_count": null,
   "id": "6e6c5e66",
   "metadata": {},
   "outputs": [],
   "source": [
    "import numpy as np\n",
    "import SimpleITK as sitk\n",
    "import os\n",
    "import matplotlib.pyplot as plt\n",
    "from xml.dom import minidom\n",
    "import nibabel as nib\n",
    "from readData import read_xml, read_nii, read_nii_masks\n",
    "\n",
    "\n",
    "DATA_PATH = r\"C:\\\\temp\\\\TC_DATA\\\\\"\n",
    "DATA_PATH_SCOLIOTIC = os.path.join(DATA_PATH, \"Scoliose\")\n",
    "DATA_PATH_NONSCOLIOTIC = os.path.join(DATA_PATH, \"Nonscoliotic\")\n",
    "\n",
    "\n",
    "# Load both files and print marker list + image shape\n",
    "file            = \"4postop\"\n",
    "filepath        = os.path.join(DATA_PATH_SCOLIOTIC, file)\n",
    "img             = read_nii(filepath + \".nii\")\n",
    "mask1, mask2    = read_nii_masks(filepath + \"_mask1.nii\", filepath + \"_mask2.nii\")\n",
    "markers         = read_xml(filepath + \".xml\")\n",
    "\n",
    "print(\"\\nMARKERS: \")\n",
    "print(markers)\n",
    "\n",
    "print(\"\\nIMAGE SHAPE:  \", img.shape)\n"
   ]
  },
  {
   "cell_type": "code",
   "execution_count": null,
   "id": "fca2a421",
   "metadata": {},
   "outputs": [],
   "source": [
    "# VISUALISATION\n",
    "\n",
    "### Zorg dat deze figuur niet geüpload wordt naar GitHub\n",
    "\n",
    "marker_nr = list(range(8)); # let op: begin met tellen bij 0!\n",
    "marker_z = markers[0,2] # z-coordinate of the slice containing the markers\n",
    "\n",
    "# Plot the images\n",
    "fig, ax = plt.subplots(figsize=(10,10))\n",
    "plt.imshow(img[:,:,marker_z], cmap='gray')\n",
    "plt.imshow(mask1[:,:,marker_z], cmap=cm1)#, alpha=0.1)\n",
    "plt.imshow(mask2[:,:,marker_z], cmap=cm2)#, alpha=0.1)\n",
    "plt.scatter(np.array(markers)[marker_nr,0], np.array(markers)[marker_nr,1], c='red')\n",
    "\n",
    "ax.axes.xaxis.set_visible(False)\n",
    "ax.axes.yaxis.set_visible(False)"
   ]
  }
 ],
 "metadata": {
  "kernelspec": {
   "display_name": "Python 3 (ipykernel)",
   "language": "python",
   "name": "python3"
  },
  "language_info": {
   "codemirror_mode": {
    "name": "ipython",
    "version": 3
   },
   "file_extension": ".py",
   "mimetype": "text/x-python",
   "name": "python",
   "nbconvert_exporter": "python",
   "pygments_lexer": "ipython3",
   "version": "3.9.0"
  }
 },
 "nbformat": 4,
 "nbformat_minor": 5
}
