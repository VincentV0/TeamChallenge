{
 "cells": [
  {
   "cell_type": "code",
   "execution_count": null,
   "id": "bda53d79",
   "metadata": {},
   "outputs": [],
   "source": [
    "import os\n",
    "import shutil\n",
    "import glob\n",
    "import csv\n",
    "import cv2\n",
    "import scipy\n",
    "\n",
    "from seg_functions_TC import*\n",
    "\n",
    "import matplotlib.pyplot as plt\n",
    "import nibabel as nib\n",
    "import numpy as np\n",
    "from PIL import Image, ImageDraw, ImageEnhance\n",
    "from scipy.spatial import ConvexHull\n",
    "from skimage import measure\n",
    "import import_ipynb\n",
    "import find_p2 as p2"
   ]
  },
  {
   "cell_type": "code",
   "execution_count": null,
   "id": "0797645f",
   "metadata": {},
   "outputs": [],
   "source": [
    "slice = 150"
   ]
  },
  {
   "cell_type": "code",
   "execution_count": null,
   "id": "4d2af28d",
   "metadata": {},
   "outputs": [],
   "source": [
    "MAIN_PATH = r'D:\\TeamChallengedataTUe\\Team challenge 2021\\Scoliose'\n",
    "cso_file = os.path.join(MAIN_PATH,'Scoliose/1postop.cso') \n",
    "nifti_file = os.path.join(MAIN_PATH,'Scoliose/1postop.nii')\n",
    "\n",
    "ct_img = nib.load(nifti_file)\n",
    "pixdim = find_pix_dim(ct_img)\n",
    "ct_numpy_all = ct_img.get_fdata()\n",
    "\n",
    "ct_numpy = ct_numpy_all[:,:,slice]\n",
    "contours = intensity_seg(ct_numpy, min=-1000, max=-300) # Hounsfields units\n",
    "lungs = find_lungs(contours)\n",
    "\n",
    "if lungs:\n",
    "    lung_mask = create_mask_from_polygon(ct_numpy, lungs)"
   ]
  },
  {
   "cell_type": "code",
   "execution_count": null,
   "id": "73dc1fd3",
   "metadata": {
    "scrolled": true
   },
   "outputs": [],
   "source": [
    "\n",
    "# Plot the images\n",
    "fig, ax = plt.subplots(1, 2, figsize=(20, 20))\n",
    "ax[0].imshow(ct_numpy, cmap='gray')\n",
    "ax[0].set_title('Input image')\n",
    "ax[1].imshow(lung_mask, cmap='gray')\n",
    "ax[1].set_title('Segmented lungs')\n",
    "    \n",
    "[x.set_axis_off() for x in ax]\n",
    "plt.show()\n",
    "\n"
   ]
  },
  {
   "cell_type": "code",
   "execution_count": null,
   "id": "0adbbb89",
   "metadata": {},
   "outputs": [],
   "source": [
    "bone_threshold_filtered_image = p2.filtered_images(ct_numpy)\n",
    "lung_mask_90, l1, l2 = p2.find_most_anterior_lung_points(lung_mask)\n",
    "posterior_centroid_sternum_row, col_centroid_sternum = p2.centroid_sternum(lung_mask_90, bone_threshold_filtered_image, l1, l2)"
   ]
  },
  {
   "cell_type": "code",
   "execution_count": null,
   "id": "bd9e100a",
   "metadata": {},
   "outputs": [],
   "source": [
    "#all operations below this cell are implemented in the used functions from find_p2 in this cell\n",
    "\n",
    "rot90_im = np.rot90(ct_numpy)\n",
    "imgplot = plt.imshow(rot90_im,cmap = 'gray')\n",
    "plt.plot(col_centroid_sternum, posterior_centroid_sternum_row, marker='o', markersize=5, color=\"red\")"
   ]
  },
  {
   "cell_type": "code",
   "execution_count": null,
   "id": "05790857",
   "metadata": {},
   "outputs": [],
   "source": [
    "ct_numpy = ct_numpy_all[:,:,slice]\n",
    "contours_bone = intensity_seg(ct_numpy, min=100, max=300) # Hounsfields units\n",
    "bones = create_mask_from_polygon(ct_numpy, contours_bone)\n",
    "\n",
    "kernel = np.ones((5,5),np.uint8)\n",
    "gradient = cv2.morphologyEx(bones, cv2.MORPH_GRADIENT, kernel)\n",
    "\n",
    "# filter = ImageEnhance.Contrast(bones)\n",
    "# bones.filter(1.5)\n",
    "\n",
    "bones_filt = cv2.GaussianBlur(bones,(3,3),0)\n",
    "laplacian = cv2.Laplacian(bones_filt,cv2.CV_64F)\n",
    "\n",
    "\n",
    "# # Plot the images\n",
    "# fig, ax = plt.subplots(1, 3, figsize=(20, 20))\n",
    "# ax[0].imshow(ct_numpy, cmap='gray')\n",
    "# ax[0].set_title('Input image')\n",
    "# ax[1].imshow(gradient, cmap='gray')\n",
    "# ax[1].set_title('bone')\n",
    "# ax[2].imshow(laplacian, cmap='gray')\n",
    "# ax[2].set_title('laplacian')\n",
    "# plt.show()"
   ]
  },
  {
   "cell_type": "code",
   "execution_count": null,
   "id": "8eaceae6",
   "metadata": {},
   "outputs": [],
   "source": []
  },
  {
   "cell_type": "code",
   "execution_count": null,
   "id": "92cab158",
   "metadata": {},
   "outputs": [],
   "source": [
    "plt.hist(ct_numpy.ravel(), 4000, [-1000,1000], color='crimson')\n",
    "plt.ylabel(\"Number Of Pixels\", color='crimson')\n",
    "plt.xlabel(\"Pixel Intensity- From 0-255\", color='crimson')\n",
    "plt.title(\"Histogram Showing Pixel Intensity And Corresponding Number Of Pixels\", color='crimson')\n",
    "plt.show()"
   ]
  },
  {
   "cell_type": "code",
   "execution_count": null,
   "id": "d51f066e",
   "metadata": {},
   "outputs": [],
   "source": [
    "HUbone = 200 #bone is around 300-400 HU (taking artefacts such as streaking- and cupping artefacts in account so decreasing to 200)\n",
    "ret,thresh = cv2.threshold(ct_numpy,HUbone,3000,cv2.THRESH_BINARY)"
   ]
  },
  {
   "cell_type": "code",
   "execution_count": null,
   "id": "0cea50ed",
   "metadata": {},
   "outputs": [],
   "source": [
    "thres = thresh.astype('int16')# om te voorkomen dat je een of andere vage error over orde van grootte van de getallen krijgt\n",
    "bones_thresh_filt = cv2.medianBlur(thres, 3)\n",
    "\n",
    "im  = (lung_mask*3000)+(bones_thresh_filt) #(overplotted)\n",
    "\n",
    "\n",
    "\n",
    "# Plot the images\n",
    "fig, ax = plt.subplots(1, 4, figsize=(20, 20))\n",
    "ax[0].imshow(ct_numpy, cmap='gray')\n",
    "ax[0].set_title('Input image')\n",
    "ax[1].imshow(thresh, cmap='gray')\n",
    "ax[1].set_title('threshold')\n",
    "ax[2].imshow(bones_thresh_filt, cmap='gray')\n",
    "ax[2].set_title('threshold filter')\n",
    "ax[3].imshow(im, cmap='gray')\n",
    "ax[3].set_title('CT + mask+bones')\n",
    "\n",
    "plt.show()\n",
    "\n",
    "print(format(lung_mask.max()))\n",
    "print(format(lung_mask.min()))"
   ]
  },
  {
   "cell_type": "code",
   "execution_count": null,
   "id": "0e5f04e4",
   "metadata": {},
   "outputs": [],
   "source": [
    "# find most anterior points in lung volumes\n",
    "\n",
    "im90 = np.rot90(lung_mask)\n",
    "arr = np.nonzero(im90)\n",
    "\n",
    "# kernel = np.ones((10,10),np.uint8)\n",
    "# opening = cv2.morphologyEx(im90, cv2.MORPH_GRADIENT, kernel)\n",
    "\n",
    "l1 = [arr[0][0]],[arr[1][0]] #eerste punt (arr[rijnummer][kolomnummer]\n",
    "\n",
    "# Marker labelling to to able to distinct between masks\n",
    "ret, markers = cv2.connectedComponents(im90)\n",
    "\n",
    "# één masker verwijderen\n",
    "markers[markers == markers[l1]] = 0 # markers in markers die ongelijk zijn aan de waarde van het eerste punt \n",
    "arr2 = np.nonzero(markers)\n",
    "l2 = [arr2[0][0]],[arr2[1][0]] \n",
    "# [arr2[as (0=rij of 1=kolom)][hoeveelste indices]],[arr2[as (0=rij of 1=kolom)][hoeveelste indices]] !!!\n",
    "\n",
    "imgplot = plt.imshow(im90, cmap='gray')\n",
    "plt.plot(l1[1], l1[0], marker='o', markersize=5, color=\"red\")\n",
    "plt.plot(l2[1], l2[0], marker='o', markersize=5, color=\"blue\")\n",
    "\n",
    "col_l1, _  = l1[1], l1[0]\n",
    "col_l2, _  = l2[1], l2[0]\n",
    "fov_between_lungs = l1[1], l2[1]\n",
    "fov_between_lungs = np.sort(fov_between_lungs, axis=None)\n",
    "rows = np.prod(im90[1].shape)\n",
    "print(fov_between_lungs[1])"
   ]
  },
  {
   "cell_type": "code",
   "execution_count": null,
   "id": "1ba60e14",
   "metadata": {},
   "outputs": [],
   "source": [
    "# set values of columns before the first point and points after column of the second point to zero (of rotated original image)\n",
    "\n",
    "bones_thresh_filt_90 = np.rot90(bones_thresh_filt)\n",
    "lung_mask_90 = np.rot90(lung_mask)\n",
    "mask = np.zeros(lung_mask_90.shape)\n",
    "mask[l1[0][0]-50:l1[0][0]+50,fov_between_lungs[0]:fov_between_lungs[1]]=1\n",
    "\n",
    "middle_col = np.around((fov_between_lungs[0]+fov_between_lungs[1])/2)\n",
    "# middle_row = np.around()\n",
    "print(fov_between_lungs[0],fov_between_lungs[1])\n",
    "fov_im90 = bones_thresh_filt_90*mask\n",
    "imgplot = plt.imshow(fov_im90, cmap='gray')\n",
    "# plt.plot(middle_point, 140, marker='o', markersize=5, color=\"blue\") # middle of the two lung points\n",
    "\n",
    "print(l1[0][0])"
   ]
  },
  {
   "cell_type": "code",
   "execution_count": null,
   "id": "55ebb17f",
   "metadata": {},
   "outputs": [],
   "source": [
    "# posterior middelpunt sternum bepalen:\n",
    "\n",
    "#closing uitvoeren\n",
    "kernel = np.ones((5,5),np.uint8)\n",
    "closing = cv2.morphologyEx(fov_im90, cv2.MORPH_CLOSE, kernel, iterations=3)\n",
    "closing = closing.astype('int8')# om te voorkomen dat je een of andere vage error over orde van grootte van de getallen krijgt\n",
    "imgplot = plt.imshow(closing, cmap='gray')\n",
    "\n",
    "\n",
    "# Choose 4 or 8 for connectivity type\n",
    "connectivity = 4  \n",
    "masks = cv2.connectedComponentsWithStats(closing, connectivity, cv2.CV_32S)\n",
    "\n",
    "num_labels = masks[0]\n",
    "stats = masks[2]\n",
    "centroids = masks[3]\n",
    "\n",
    "for label in range(1,num_labels):\n",
    "    blob_area = stats[label, cv2.CC_STAT_AREA]\n",
    "    blob_width = stats[label, cv2.CC_STAT_WIDTH]\n",
    "    blob_height = stats[label, cv2.CC_STAT_HEIGHT]\n",
    "\n",
    "mask_area = stats[:,4]\n",
    "filtered_mask_area = np.sort([x for x in mask_area if x <= 100000 and x > 50])\n",
    "a = stats[:,4] == filtered_mask_area[0]\n",
    "b=[i for i, x in enumerate(a) if x]\n",
    "centroid_sternum = np.around(centroids[b])\n",
    "\n",
    "# find lowest nonzero point in mask\n",
    "\n",
    "    \n",
    "# ind=np.argsort(stats[:,-1])\n",
    "# stats[ind]\n",
    "# stats = np.sort(stats[:,])    \n",
    "# print(filtered_mask_area)\n",
    "# print(centroid_sternum)\n",
    "# print(centroid_sternum[0][0])\n",
    "# print(centroids)\n",
    "\n",
    "#ret,markers = cv2.connectedComponents(closing)\n",
    "\n",
    "\n",
    "#find lowest point of mask in centroid\n",
    "imgplot = plt.imshow(closing, cmap='gray')\n"
   ]
  },
  {
   "cell_type": "code",
   "execution_count": null,
   "id": "f22ee121",
   "metadata": {},
   "outputs": [],
   "source": [
    "\n",
    "row_centroid_sternum = np.uint(centroid_sternum[0][1])\n",
    "col_centroid_sternum = np.uint(centroid_sternum[0][0])\n",
    "centroid_axis = closing[:,col_centroid_sternum]\n",
    "centroid_axis_corr = centroid_axis[row_centroid_sternum:]\n",
    "# print(row_centroid_sternum)\n",
    "# print(centroid_axis)\n",
    "index_backgroud_mask = np.where(centroid_axis_corr[:-1] != centroid_axis_corr[1:])[0] # find indices where the value changes.\n",
    "# add the value of the first index to the centroid row value\n",
    "posterior_centroid_sternum_row = index_backgroud_mask[0]+row_centroid_sternum\n",
    "print(posterior_centroid_sternum_row)\n",
    "\n",
    "rot90_im = np.rot90(ct_numpy)\n",
    "\n",
    "imgplot = plt.imshow(rot90_im,cmap = 'gray')\n",
    "plt.plot(col_centroid_sternum, posterior_centroid_sternum_row, marker='o', markersize=5, color=\"red\")"
   ]
  },
  {
   "cell_type": "code",
   "execution_count": null,
   "id": "91d4c8ae",
   "metadata": {},
   "outputs": [],
   "source": [
    "# sternum niet altijd zichtbaar, in dit geval middelpunt pakken van de meest anterior bepaalde punten van de longvolumes?\n",
    "\n",
    "\n",
    "\n",
    "\n",
    "\n",
    "## bouw een functie in die het volgende doet om het sternum te detecteren: \n",
    "    # de botstructuren detecteren\n",
    "    # een voorwaarde inbouwen om te kijken of deze botten (vrijwel) direct bij de longen liggen\n",
    "    # een voorwaarde inbouwen om te kijken of deze dichtbij het hart ligt (zacht weefsel)\n",
    "    # als aan beide voorwaarden voldaan worden dan kan het detectie punt voor p2 worden bepaald. \n",
    "    \n",
    "    #- mocht die niet lukken dan kan gekeken worden naar het frontale vlak om het sternum aan te duiden en zo weer in het axiale vlak laten zien.\n",
    "    # deze is hier prominenter aanwezig\n",
    "    \n",
    "  "
   ]
  },
  {
   "cell_type": "code",
   "execution_count": null,
   "id": "94519580",
   "metadata": {},
   "outputs": [],
   "source": [
    "\n",
    "    #find bony structures that are between the lung masks\n",
    "    # if none of no lung masks are present return that none could be found or no lungs are present\n",
    "    #assume the heart is in every case behind the sternum\n",
    "    # return the image area between the two most anterior lung points set the the rest to zero\n",
    "    "
   ]
  },
  {
   "cell_type": "code",
   "execution_count": null,
   "id": "a294d7ab",
   "metadata": {},
   "outputs": [],
   "source": [
    " # geeft geen goed beeld van het sternum in frontaal en sagittaal vlak\n",
    "    \n",
    "# ct_numpy_f = ct_numpy_all[260,:,:]\n",
    "# ct_numpy_f = np.rot90(ct_numpy_f)\n",
    "# fig, ax = plt.subplots(1, 2, figsize=(20, 20))\n",
    "# ax[0].imshow(ct_numpy_f, cmap='gray')\n",
    "# ax[0].set_title('Input image')\n",
    "# ax[0].imshow(ct_numpy_f, cmap='gray')\n",
    "# ax[0].set_title('Input image')"
   ]
  },
  {
   "cell_type": "code",
   "execution_count": null,
   "id": "afbc6be1",
   "metadata": {},
   "outputs": [],
   "source": [
    "# find point 7"
   ]
  }
 ],
 "metadata": {
  "kernelspec": {
   "display_name": "Python 3 (ipykernel)",
   "language": "python",
   "name": "python3"
  },
  "language_info": {
   "codemirror_mode": {
    "name": "ipython",
    "version": 3
   },
   "file_extension": ".py",
   "mimetype": "text/x-python",
   "name": "python",
   "nbconvert_exporter": "python",
   "pygments_lexer": "ipython3",
   "version": "3.9.7"
  }
 },
 "nbformat": 4,
 "nbformat_minor": 5
}
