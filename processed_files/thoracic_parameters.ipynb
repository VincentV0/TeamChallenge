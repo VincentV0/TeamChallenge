{
 "cells": [
  {
   "cell_type": "code",
   "execution_count": null,
   "id": "38698c34",
   "metadata": {},
   "outputs": [],
   "source": []
  },
  {
   "cell_type": "code",
   "execution_count": 3,
   "id": "a40af9e2",
   "metadata": {},
   "outputs": [],
   "source": [
    "def haller_index(p1, p2, p3, p4):\n",
    "    \n",
    "    \"\"\"\"\"\n",
    "    \n",
    "    Haller index is defined by the width divided by length of the thorax. \n",
    "    therefor points p2, p4 (for A-P length) and p1 and p3 (for the ML length) is needed. \n",
    "    \n",
    "    !Make sure the scans are oriented with the dorsal side at the bottom of the image!\n",
    "    \"\"\"\n",
    "    \n",
    "    AP_length = abs(p1[1]-p3[1]) # anterior, posterior length\n",
    "    ML_length = abs(p2[0]-p4[0]) # medial, lateral length\n",
    "    \n",
    "    HI_index = ML_length/AP_length # Haller index\n",
    "    \n",
    "    return HI_index"
   ]
  },
  {
   "cell_type": "code",
   "execution_count": null,
   "id": "caa908ac",
   "metadata": {},
   "outputs": [],
   "source": [
    "def sagittal_diameter(p2, anterior_foramen_point):\n",
    "    \n",
    "    \"\"\"\"\n",
    "    calculating the sagittal diameter by taking the length between point 1 and the anterior point of the spinal foramen.\n",
    "    \"\"\"\"\n",
    "    sagit_dia = abs(p2[0]-anterior_foramen_point[0])\n",
    "    \n",
    "    return sagit_dia\n",
    "    \n",
    "    "
   ]
  },
  {
   "cell_type": "code",
   "execution_count": null,
   "id": "4e2e1926",
   "metadata": {},
   "outputs": [],
   "source": []
  }
 ],
 "metadata": {
  "kernelspec": {
   "display_name": "Python 3 (ipykernel)",
   "language": "python",
   "name": "python3"
  },
  "language_info": {
   "codemirror_mode": {
    "name": "ipython",
    "version": 3
   },
   "file_extension": ".py",
   "mimetype": "text/x-python",
   "name": "python",
   "nbconvert_exporter": "python",
   "pygments_lexer": "ipython3",
   "version": "3.8.12"
  }
 },
 "nbformat": 4,
 "nbformat_minor": 5
}
